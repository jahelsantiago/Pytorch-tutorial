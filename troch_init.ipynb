{
  "nbformat": 4,
  "nbformat_minor": 0,
  "metadata": {
    "colab": {
      "name": "troch_init.ipynb",
      "provenance": [],
      "collapsed_sections": [],
      "toc_visible": true,
      "authorship_tag": "ABX9TyMuNRlHDrxuXBI4RYMIfvZG",
      "include_colab_link": true
    },
    "kernelspec": {
      "name": "python3",
      "display_name": "Python 3"
    }
  },
  "cells": [
    {
      "cell_type": "markdown",
      "metadata": {
        "id": "view-in-github",
        "colab_type": "text"
      },
      "source": [
        "<a href=\"https://colab.research.google.com/github/jahelsantiago/Pytorch-tutorial/blob/main/troch_init.ipynb\" target=\"_parent\"><img src=\"https://colab.research.google.com/assets/colab-badge.svg\" alt=\"Open In Colab\"/></a>"
      ]
    },
    {
      "cell_type": "code",
      "metadata": {
        "id": "fqRc-Plheim9"
      },
      "source": [
        "import torch \r\n",
        "from __future__ import print_function"
      ],
      "execution_count": null,
      "outputs": []
    },
    {
      "cell_type": "markdown",
      "metadata": {
        "id": "wV2lpeFRf0KO"
      },
      "source": [
        "Los tensores son matrices que pueden correr en la GPU"
      ]
    },
    {
      "cell_type": "markdown",
      "metadata": {
        "id": "Oc5xdLsGC12w"
      },
      "source": [
        "# BASICOS"
      ]
    },
    {
      "cell_type": "markdown",
      "metadata": {
        "id": "qWCvn2ctiMQs"
      },
      "source": [
        "## OPERACIONES DE CREACION"
      ]
    },
    {
      "cell_type": "code",
      "metadata": {
        "colab": {
          "base_uri": "https://localhost:8080/"
        },
        "id": "GzrTNuhYeqLx",
        "outputId": "262da204-8b34-4fc5-bfe0-83d536195fcd"
      },
      "source": [
        "#create a tensor of random numbers\r\n",
        "x = torch.rand(size = (5,5))\r\n",
        "print(x)"
      ],
      "execution_count": null,
      "outputs": [
        {
          "output_type": "stream",
          "text": [
            "tensor([[0.4931, 0.4747, 0.2496, 0.2817, 0.4045],\n",
            "        [0.8887, 0.6977, 0.6275, 0.3882, 0.9992],\n",
            "        [0.5645, 0.1571, 0.0433, 0.2362, 0.8521],\n",
            "        [0.5724, 0.9014, 0.1203, 0.4840, 0.4813],\n",
            "        [0.2360, 0.9794, 0.0962, 0.4657, 0.1885]])\n"
          ],
          "name": "stdout"
        }
      ]
    },
    {
      "cell_type": "code",
      "metadata": {
        "colab": {
          "base_uri": "https://localhost:8080/"
        },
        "id": "xC7fPidZe8Cc",
        "outputId": "01db0072-8196-4463-beed-212dc1037e66"
      },
      "source": [
        "#create a tensor of ones\r\n",
        "x = torch.ones(size = (3,3))\r\n",
        "print(x)"
      ],
      "execution_count": null,
      "outputs": [
        {
          "output_type": "stream",
          "text": [
            "tensor([[1., 1., 1.],\n",
            "        [1., 1., 1.],\n",
            "        [1., 1., 1.]])\n"
          ],
          "name": "stdout"
        }
      ]
    },
    {
      "cell_type": "code",
      "metadata": {
        "colab": {
          "base_uri": "https://localhost:8080/"
        },
        "id": "nNN1z1SafLuy",
        "outputId": "74d86e61-be56-4f4c-ce63-ce853948e9b4"
      },
      "source": [
        "#create a tensor of zeros\r\n",
        "x = torch.zeros(size = (3,3))\r\n",
        "print(x)"
      ],
      "execution_count": null,
      "outputs": [
        {
          "output_type": "stream",
          "text": [
            "tensor([[0., 0., 0.],\n",
            "        [0., 0., 0.],\n",
            "        [0., 0., 0.]])\n"
          ],
          "name": "stdout"
        }
      ]
    },
    {
      "cell_type": "code",
      "metadata": {
        "colab": {
          "base_uri": "https://localhost:8080/"
        },
        "id": "JB1-gyllfSf0",
        "outputId": "fe80cd23-242b-446b-8d01-019bfc7f6c5d"
      },
      "source": [
        "#create a tensor of the values\r\n",
        "x = torch.tensor([1,1.2,0])\r\n",
        "print(x)"
      ],
      "execution_count": null,
      "outputs": [
        {
          "output_type": "stream",
          "text": [
            "tensor([1.0000, 1.2000, 0.0000])\n"
          ],
          "name": "stdout"
        }
      ]
    },
    {
      "cell_type": "markdown",
      "metadata": {
        "id": "8oL-R4Nkf5L2"
      },
      "source": [
        ""
      ]
    },
    {
      "cell_type": "code",
      "metadata": {
        "colab": {
          "base_uri": "https://localhost:8080/"
        },
        "id": "f5-4m-gXfnq5",
        "outputId": "ef702332-5314-4bef-a1f1-339f60ae1808"
      },
      "source": [
        "x = torch.ones((3,4))\r\n",
        "print(x)\r\n",
        "x = torch.rand_like(x) # con el _like podemos copiar un tensor con el mismo tamaño\r\n",
        "print(x)"
      ],
      "execution_count": null,
      "outputs": [
        {
          "output_type": "stream",
          "text": [
            "tensor([[1., 1., 1., 1.],\n",
            "        [1., 1., 1., 1.],\n",
            "        [1., 1., 1., 1.]])\n",
            "tensor([[0.8807, 0.1475, 0.7237, 0.8859],\n",
            "        [0.5809, 0.9098, 0.9362, 0.2553],\n",
            "        [0.4155, 0.7174, 0.0472, 0.3477]])\n"
          ],
          "name": "stdout"
        }
      ]
    },
    {
      "cell_type": "code",
      "metadata": {
        "colab": {
          "base_uri": "https://localhost:8080/"
        },
        "id": "CqsipYcLgGiH",
        "outputId": "ba090fc6-deb3-43ce-a5ac-185e853d103c"
      },
      "source": [
        "# obtener el tamaño de un tensor\r\n",
        "print(x.size())"
      ],
      "execution_count": null,
      "outputs": [
        {
          "output_type": "stream",
          "text": [
            "torch.Size([3, 4])\n"
          ],
          "name": "stdout"
        }
      ]
    },
    {
      "cell_type": "markdown",
      "metadata": {
        "id": "T2wagiy8iPJc"
      },
      "source": [
        "## OPERACIONES MATEMATICAS "
      ]
    },
    {
      "cell_type": "code",
      "metadata": {
        "colab": {
          "base_uri": "https://localhost:8080/"
        },
        "id": "kXCKHsiYgTxR",
        "outputId": "1775e471-56cf-4c5f-d93c-b95baa7f05ed"
      },
      "source": [
        "a = torch.empty((3,3)) #empty tensor\r\n",
        "b = torch.zeros((3,3)) \r\n",
        "a = b+1 #add 1 \r\n",
        "a *= 3 # multiply \r\n",
        "print(a)"
      ],
      "execution_count": null,
      "outputs": [
        {
          "output_type": "stream",
          "text": [
            "tensor([[3., 3., 3.],\n",
            "        [3., 3., 3.],\n",
            "        [3., 3., 3.]])\n"
          ],
          "name": "stdout"
        }
      ]
    },
    {
      "cell_type": "markdown",
      "metadata": {
        "id": "IQgtIEy3lKLi"
      },
      "source": [
        "##resize"
      ]
    },
    {
      "cell_type": "code",
      "metadata": {
        "colab": {
          "base_uri": "https://localhost:8080/"
        },
        "id": "5J9cpVP3iizB",
        "outputId": "a2be7e75-1923-4f37-9f9d-125fc0584d4e"
      },
      "source": [
        "x = torch.tensor(list(range(1,10)))\r\n",
        "print(x)\r\n",
        "print(x.view((3,3)))\r\n",
        "print(x.view((-1,3)))"
      ],
      "execution_count": null,
      "outputs": [
        {
          "output_type": "stream",
          "text": [
            "tensor([1, 2, 3, 4, 5, 6, 7, 8, 9])\n",
            "tensor([[1, 2, 3],\n",
            "        [4, 5, 6],\n",
            "        [7, 8, 9]])\n",
            "tensor([[1, 2, 3],\n",
            "        [4, 5, 6],\n",
            "        [7, 8, 9]])\n"
          ],
          "name": "stdout"
        }
      ]
    },
    {
      "cell_type": "code",
      "metadata": {
        "colab": {
          "base_uri": "https://localhost:8080/"
        },
        "id": "4avYYDEDlTGk",
        "outputId": "d3495428-044a-462c-b505-8181500b62fb"
      },
      "source": [
        "x = torch.rand(1)\r\n",
        "print(x)\r\n",
        "print(x.item())\r\n"
      ],
      "execution_count": null,
      "outputs": [
        {
          "output_type": "stream",
          "text": [
            "tensor([0.3172])\n",
            "0.31718599796295166\n"
          ],
          "name": "stdout"
        }
      ]
    },
    {
      "cell_type": "markdown",
      "metadata": {
        "id": "iCxCTg-onHGL"
      },
      "source": [
        "## Numpy"
      ]
    },
    {
      "cell_type": "code",
      "metadata": {
        "colab": {
          "base_uri": "https://localhost:8080/"
        },
        "id": "EWJ5SVaNmYw4",
        "outputId": "fc139b9d-6b34-4a47-f2b6-2ed7967c7f58"
      },
      "source": [
        "import numpy as np\r\n",
        "a = np.ones((3,3))\r\n",
        "x = torch.from_numpy(a)\r\n",
        "x"
      ],
      "execution_count": null,
      "outputs": [
        {
          "output_type": "execute_result",
          "data": {
            "text/plain": [
              "tensor([[1., 1., 1.],\n",
              "        [1., 1., 1.],\n",
              "        [1., 1., 1.]], dtype=torch.float64)"
            ]
          },
          "metadata": {
            "tags": []
          },
          "execution_count": 31
        }
      ]
    },
    {
      "cell_type": "code",
      "metadata": {
        "colab": {
          "base_uri": "https://localhost:8080/"
        },
        "id": "wA4w9yoDnTWz",
        "outputId": "116ab2fe-5a15-4ebf-843a-113f109b9894"
      },
      "source": [
        "b = torch.randint(1,100,(3,3))\r\n",
        "b.numpy()"
      ],
      "execution_count": null,
      "outputs": [
        {
          "output_type": "execute_result",
          "data": {
            "text/plain": [
              "array([[79, 75, 53],\n",
              "       [24, 70, 62],\n",
              "       [10, 17, 56]])"
            ]
          },
          "metadata": {
            "tags": []
          },
          "execution_count": 34
        }
      ]
    },
    {
      "cell_type": "markdown",
      "metadata": {
        "id": "E0NGjoyhDFD_"
      },
      "source": [
        "# Gradients"
      ]
    },
    {
      "cell_type": "code",
      "metadata": {
        "colab": {
          "base_uri": "https://localhost:8080/"
        },
        "id": "Z-4Fi0g2nwSd",
        "outputId": "a803ac13-0dd1-46dd-841a-ba613abbcbbe"
      },
      "source": [
        "import torch \r\n",
        "x = torch.ones([3,3], requires_grad= True)\r\n",
        "print(x)\r\n",
        "y = x**2 + x -1\r\n",
        "print(y)\r\n",
        "z = y.mean()\r\n",
        "print(z)"
      ],
      "execution_count": null,
      "outputs": [
        {
          "output_type": "stream",
          "text": [
            "tensor([[1., 1., 1.],\n",
            "        [1., 1., 1.],\n",
            "        [1., 1., 1.]], requires_grad=True)\n",
            "tensor([[1., 1., 1.],\n",
            "        [1., 1., 1.],\n",
            "        [1., 1., 1.]], grad_fn=<SubBackward0>)\n",
            "tensor(1., grad_fn=<MeanBackward0>)\n"
          ],
          "name": "stdout"
        }
      ]
    },
    {
      "cell_type": "code",
      "metadata": {
        "colab": {
          "base_uri": "https://localhost:8080/"
        },
        "id": "tvfUKNn1DD2R",
        "outputId": "259ac3fd-1d00-4f8f-ac85-d64cebbb2612"
      },
      "source": [
        "x = torch.rand((3,3))\r\n",
        "print(x.requires_grad)\r\n",
        "x.requires_grad_(True)\r\n",
        "print(x.requires_grad)"
      ],
      "execution_count": null,
      "outputs": [
        {
          "output_type": "stream",
          "text": [
            "False\n",
            "True\n"
          ],
          "name": "stdout"
        }
      ]
    },
    {
      "cell_type": "markdown",
      "metadata": {
        "id": "JQyreTnfAVOk"
      },
      "source": [
        "#Neural networks contruction"
      ]
    },
    {
      "cell_type": "code",
      "metadata": {
        "id": "BUI8jnoGEYkj",
        "colab": {
          "base_uri": "https://localhost:8080/"
        },
        "outputId": "7c1d595a-5c21-4c5e-f6ee-95c1ed9e071f"
      },
      "source": [
        "import torch\r\n",
        "import torch.nn as nn\r\n",
        "import torch.nn.functional as F\r\n",
        "\r\n",
        "class Net(nn.Module): #todas las redes deben heredar de la clase Module\r\n",
        "  def __init__(self):\r\n",
        "    super(Net, self).__init__()\r\n",
        "\r\n",
        "    self.conv1 = nn.Conv2d(in_channels=1, out_channels=6, kernel_size=(3,3))\r\n",
        "    self.Conv2 = nn.Conv2d(6, 16, 3)    \r\n",
        "\r\n",
        "    self.fc1 = nn.Linear(6*6*16, 120)\r\n",
        "    self.fc2 = nn.Linear(120, 84)\r\n",
        "    self.fc3 = nn.Linear(84,10)\r\n",
        "\r\n",
        "  def forward(self, x):\r\n",
        "    x = F.max_pool2d(F.relu(self.conv1(x)), (2,2))\r\n",
        "    x = F.max_pool2d(F.tanh(self.Conv2(x)), 2)\r\n",
        "\r\n",
        "    x = x.view(-1, self.num_flat_features(x))\r\n",
        "    x = F.relu(self.fc1(x))\r\n",
        "    x = F.relu(self.fc2(x))\r\n",
        "    x = self.fc3(x)\r\n",
        "\r\n",
        "    return x\r\n",
        "\r\n",
        "  def num_flat_features(self, x):\r\n",
        "      size = x.size()[1:]  # all dimensions except the batch dimension      \r\n",
        "      num_features = 1\r\n",
        "      for s in size:\r\n",
        "          num_features *= s\r\n",
        "      return num_features\r\n",
        "\r\n",
        "\r\n",
        "net = Net()\r\n",
        "print(net)\r\n",
        "\r\n"
      ],
      "execution_count": 1,
      "outputs": [
        {
          "output_type": "stream",
          "text": [
            "Net(\n",
            "  (conv1): Conv2d(1, 6, kernel_size=(3, 3), stride=(1, 1))\n",
            "  (Conv2): Conv2d(6, 16, kernel_size=(3, 3), stride=(1, 1))\n",
            "  (fc1): Linear(in_features=576, out_features=120, bias=True)\n",
            "  (fc2): Linear(in_features=120, out_features=84, bias=True)\n",
            "  (fc3): Linear(in_features=84, out_features=10, bias=True)\n",
            ")\n"
          ],
          "name": "stdout"
        }
      ]
    },
    {
      "cell_type": "code",
      "metadata": {
        "id": "WQRf3QIBAkhv",
        "colab": {
          "base_uri": "https://localhost:8080/"
        },
        "outputId": "6ba812b1-23e7-4a4d-9138-1f27113f0765"
      },
      "source": [
        "parameter = list(net.parameters())[0]\r\n",
        "print(parameter)\r\n",
        "print(parameter.size())"
      ],
      "execution_count": 2,
      "outputs": [
        {
          "output_type": "stream",
          "text": [
            "Parameter containing:\n",
            "tensor([[[[ 0.1952,  0.2786, -0.2585],\n",
            "          [-0.2058, -0.2113,  0.1851],\n",
            "          [-0.1757,  0.2921, -0.0074]]],\n",
            "\n",
            "\n",
            "        [[[ 0.2171, -0.1308,  0.2363],\n",
            "          [ 0.0530, -0.3191, -0.0937],\n",
            "          [ 0.1209, -0.2094,  0.2543]]],\n",
            "\n",
            "\n",
            "        [[[ 0.0291,  0.2415,  0.2558],\n",
            "          [ 0.1525, -0.1037, -0.2917],\n",
            "          [-0.1796, -0.0422,  0.1524]]],\n",
            "\n",
            "\n",
            "        [[[-0.0583, -0.3271,  0.1325],\n",
            "          [ 0.1876, -0.0572,  0.1784],\n",
            "          [-0.1220,  0.1425,  0.2620]]],\n",
            "\n",
            "\n",
            "        [[[-0.3324, -0.2457, -0.3032],\n",
            "          [ 0.0147, -0.0650, -0.1678],\n",
            "          [-0.2887,  0.0704,  0.2040]]],\n",
            "\n",
            "\n",
            "        [[[ 0.1369,  0.0729, -0.2261],\n",
            "          [-0.2276, -0.2674,  0.1106],\n",
            "          [ 0.0502, -0.2851,  0.2665]]]], requires_grad=True)\n",
            "torch.Size([6, 1, 3, 3])\n"
          ],
          "name": "stdout"
        }
      ]
    },
    {
      "cell_type": "code",
      "metadata": {
        "colab": {
          "base_uri": "https://localhost:8080/"
        },
        "id": "No6CHfLFZwTn",
        "outputId": "6e566fc1-8ceb-4549-b953-a4d9e23d1eeb"
      },
      "source": [
        "inp = torch.randn(1,1,32,32)\r\n",
        "out = net(inp)\r\n",
        "print(out)"
      ],
      "execution_count": 3,
      "outputs": [
        {
          "output_type": "stream",
          "text": [
            "tensor([[-0.0904, -0.1186,  0.1220,  0.0137,  0.1261, -0.0324, -0.0631, -0.0580,\n",
            "         -0.0699, -0.0804]], grad_fn=<AddmmBackward>)\n"
          ],
          "name": "stdout"
        },
        {
          "output_type": "stream",
          "text": [
            "/usr/local/lib/python3.6/dist-packages/torch/nn/functional.py:1628: UserWarning: nn.functional.tanh is deprecated. Use torch.tanh instead.\n",
            "  warnings.warn(\"nn.functional.tanh is deprecated. Use torch.tanh instead.\")\n"
          ],
          "name": "stderr"
        }
      ]
    },
    {
      "cell_type": "markdown",
      "metadata": {
        "id": "4knXhd7Qjmib"
      },
      "source": [
        "## Loss function"
      ]
    },
    {
      "cell_type": "code",
      "metadata": {
        "colab": {
          "base_uri": "https://localhost:8080/"
        },
        "id": "ZVCvGPQm_OaK",
        "outputId": "0df396f6-2de5-4f45-e73e-157d0629056d"
      },
      "source": [
        "inp = torch.rand(1,1,32,32) # generate random input \r\n",
        "out = net(inp) #porcess troght forward\r\n",
        "print(\"models output\")\r\n",
        "print(out)\r\n",
        "print(\"---------------------------------------\")\r\n",
        "y = torch.randn(10) #generate 10 classes for the label\r\n",
        "y = y.view(1,-1)\r\n",
        "print(\"labels\")\r\n",
        "print(y)\r\n",
        "print(\"---------------------------------------\")\r\n",
        "print(\"loss\")\r\n",
        "criteria = nn.MSELoss()\r\n",
        "loss = criteria(out, y)\r\n",
        "print(loss)\r\n",
        "\r\n"
      ],
      "execution_count": 5,
      "outputs": [
        {
          "output_type": "stream",
          "text": [
            "models output\n",
            "tensor([[-0.0921, -0.0965,  0.1072,  0.0069,  0.1121, -0.0399, -0.0921, -0.0659,\n",
            "         -0.0677, -0.1036]], grad_fn=<AddmmBackward>)\n",
            "---------------------------------------\n",
            "labels\n",
            "tensor([[-1.7129,  0.6977,  0.0286, -1.2860, -0.0785, -2.1006,  1.0439,  1.0402,\n",
            "         -0.8662, -1.7480]])\n",
            "---------------------------------------\n",
            "loss\n",
            "tensor(1.5073, grad_fn=<MseLossBackward>)\n"
          ],
          "name": "stdout"
        },
        {
          "output_type": "stream",
          "text": [
            "/usr/local/lib/python3.6/dist-packages/torch/nn/functional.py:1628: UserWarning: nn.functional.tanh is deprecated. Use torch.tanh instead.\n",
            "  warnings.warn(\"nn.functional.tanh is deprecated. Use torch.tanh instead.\")\n"
          ],
          "name": "stderr"
        }
      ]
    },
    {
      "cell_type": "code",
      "metadata": {
        "colab": {
          "base_uri": "https://localhost:8080/"
        },
        "id": "lg3GUpGxlqsh",
        "outputId": "e611d328-f328-447b-9781-3d4e5828868c"
      },
      "source": [
        "net.zero_grad()\r\n",
        "print('conv1.bias.grad before backward')\r\n",
        "print(net.conv1.bias.grad)\r\n",
        "\r\n",
        "loss.backward()\r\n",
        "\r\n",
        "print(\"conv1.bias.grad after backward\")\r\n",
        "print(net.conv1.bias.grad)"
      ],
      "execution_count": 6,
      "outputs": [
        {
          "output_type": "stream",
          "text": [
            "conv1.bias.grad before backward\n",
            "tensor([0., 0., 0., 0., 0., 0.])\n",
            "conv1.bias.grad after backward\n",
            "tensor([ 0.0452, -0.0033, -0.0014, -0.0074, -0.0050, -0.0445])\n"
          ],
          "name": "stdout"
        }
      ]
    },
    {
      "cell_type": "markdown",
      "metadata": {
        "id": "S1SzHXdOqatP"
      },
      "source": [
        "## Update parametres"
      ]
    },
    {
      "cell_type": "markdown",
      "metadata": {
        "id": "e0dj5lqLsH4f"
      },
      "source": [
        "stochastic gradient desent"
      ]
    },
    {
      "cell_type": "code",
      "metadata": {
        "colab": {
          "base_uri": "https://localhost:8080/"
        },
        "id": "MxCkk5JEpX0q",
        "outputId": "8f1cd065-4e0d-4fd5-e1a0-9cd6a75272a1"
      },
      "source": [
        "print(\"conv1.bias before update\")\r\n",
        "print(net.conv1.bias)\r\n",
        "\r\n",
        "learning_rate = 0.01\r\n",
        "for f in net.parameters():\r\n",
        "    f.data = f.data - f.grad.data * learning_rate\r\n",
        "\r\n",
        "print(\"conv1.bias after update\")\r\n",
        "print(net.conv1.bias)    "
      ],
      "execution_count": 21,
      "outputs": [
        {
          "output_type": "stream",
          "text": [
            "conv1.bias before update\n",
            "Parameter containing:\n",
            "tensor([ 0.3303, -0.3110, -0.2361,  0.0318,  0.2651,  0.0822],\n",
            "       requires_grad=True)\n",
            "conv1.bias after update\n",
            "Parameter containing:\n",
            "tensor([ 0.3298, -0.3110, -0.2360,  0.0318,  0.2652,  0.0826],\n",
            "       requires_grad=True)\n"
          ],
          "name": "stdout"
        }
      ]
    },
    {
      "cell_type": "markdown",
      "metadata": {
        "id": "mPEqToDwsKbR"
      },
      "source": [
        "# optimizers"
      ]
    },
    {
      "cell_type": "code",
      "metadata": {
        "colab": {
          "base_uri": "https://localhost:8080/"
        },
        "id": "wfVC99weqoMe",
        "outputId": "e38d0e41-a0c6-4943-bd0f-6fdb9cd2a3ac"
      },
      "source": [
        "import torch.optim as optim\r\n",
        "\r\n",
        "optimizer = optim.Adam(net.parameters(), lr = 0.001)\r\n",
        "\r\n",
        "for i in range(5):\r\n",
        "  optimizer.zero_grad() #convertimos el gradiente en 0 \r\n",
        "  output = net(inp)  \r\n",
        "  loss = criteria(output, y)\r\n",
        "  loss.backward()\r\n",
        "  optimizer.step()\r\n",
        "  "
      ],
      "execution_count": 26,
      "outputs": [
        {
          "output_type": "stream",
          "text": [
            "/usr/local/lib/python3.6/dist-packages/torch/nn/functional.py:1628: UserWarning: nn.functional.tanh is deprecated. Use torch.tanh instead.\n",
            "  warnings.warn(\"nn.functional.tanh is deprecated. Use torch.tanh instead.\")\n"
          ],
          "name": "stderr"
        }
      ]
    },
    {
      "cell_type": "code",
      "metadata": {
        "id": "0MhIe44wrKVP"
      },
      "source": [
        ""
      ],
      "execution_count": null,
      "outputs": []
    }
  ]
}